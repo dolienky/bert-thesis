{
 "cells": [
  {
   "cell_type": "code",
   "execution_count": 1,
   "id": "e6e1d27f-38a0-4750-85a1-3a166966423b",
   "metadata": {},
   "outputs": [],
   "source": [
    "import numpy as np\n",
    "import pandas as pd\n",
    "\n",
    "from transformers import AutoModelForSequenceClassification\n",
    "from transformers import TFAutoModelForSequenceClassification\n",
    "from transformers import AutoTokenizer, AutoConfig\n",
    "from transformers import pipeline"
   ]
  },
  {
   "cell_type": "code",
   "execution_count": 2,
   "id": "a3032e69-24e5-4701-8b69-5413a1766153",
   "metadata": {},
   "outputs": [
    {
     "name": "stderr",
     "output_type": "stream",
     "text": [
      "Some weights of the model checkpoint at cardiffnlp/twitter-roberta-base-sentiment-latest were not used when initializing RobertaForSequenceClassification: ['roberta.pooler.dense.bias', 'roberta.pooler.dense.weight']\n",
      "- This IS expected if you are initializing RobertaForSequenceClassification from the checkpoint of a model trained on another task or with another architecture (e.g. initializing a BertForSequenceClassification model from a BertForPreTraining model).\n",
      "- This IS NOT expected if you are initializing RobertaForSequenceClassification from the checkpoint of a model that you expect to be exactly identical (initializing a BertForSequenceClassification model from a BertForSequenceClassification model).\n",
      "Asking to truncate to max_length but no maximum length is provided and the model has no predefined maximum length. Default to no truncation.\n"
     ]
    },
    {
     "data": {
      "text/plain": [
       "[{'label': 'positive', 'score': 0.9821994304656982}]"
      ]
     },
     "execution_count": 2,
     "metadata": {},
     "output_type": "execute_result"
    }
   ],
   "source": [
    "MODEL = f\"cardiffnlp/twitter-roberta-base-sentiment-latest\"\n",
    "tokenizer = AutoTokenizer.from_pretrained(MODEL)\n",
    "config = AutoConfig.from_pretrained(MODEL)\n",
    "model = AutoModelForSequenceClassification.from_pretrained(MODEL)\n",
    "\n",
    "classifier = pipeline('sentiment-analysis', model=model, tokenizer=tokenizer, config = config, truncation = True)\n",
    "classifier(\"This community is so helpful!\")"
   ]
  },
  {
   "cell_type": "code",
   "execution_count": 3,
   "id": "10a5bb21-df51-4554-98ef-85ed884052df",
   "metadata": {},
   "outputs": [],
   "source": [
    "df_input = pd.read_csv('data_2023.csv', low_memory = False, on_bad_lines = \"skip\")"
   ]
  },
  {
   "cell_type": "code",
   "execution_count": 4,
   "id": "d7b8b793-ba40-4a1e-ad08-de0a606c1843",
   "metadata": {},
   "outputs": [],
   "source": [
    "#Initial copy to avoid re-input\n",
    "df = df_input.copy()\n",
    "#Drop empty comment\n",
    "df = df.dropna(subset = \"Comment_Translation\")\n",
    "#Filter columns\n",
    "df = df[['CGID', 'Survey_Completed_Date', 'CustomerNumber', 'HeinekenRegion', 'Country', 'CustomerCluster',\n",
    "         'BusinessSegment', 'CustomerType', 'NetPromoterScore', 'Reasons_List', 'Comment', 'Comment_Translation']]\n",
    "#Extract months\n",
    "#df['Survey_Completed_Date'] = pd.to_datetime(df['Survey_Completed_Date'])\n",
    "#df['Month'] = pd.DatetimeIndex(df['Survey_Completed_Date']).month\n",
    "#Filter countries\n",
    "#df = df[df['Country'] != 'VN'] \n",
    "df = df[df['Country'] != 'MX'] #Different operating system\n",
    "df = df[df['Country'] != 'BI'] #Translation error\n",
    "df = df[df['Country'] != 'KH'] #Translation error\n",
    "\n",
    "#Data cleaning\n",
    "#Convert everything to string type\n",
    "df['Comment_Translation'] = df['Comment_Translation'].astype('str')\n",
    "#Exclude numeric\n",
    "df = df[~df['Comment_Translation'].str.isdigit()]\n",
    "df = df[~df['Comment_Translation'].str.isnumeric()]\n",
    "df = df[df['Comment_Translation'] != '100%']\n",
    "#Exclue certain patterns that confuse the model (e.g. Nil vs NB (shorts for Nigerian breweries))\n",
    "df = df[df['Comment_Translation'] != 'Nil']\n",
    "df = df[df['Comment_Translation'] != 'Nill']\n",
    "#Exclude CSAT\n",
    "df = df[df['NetPromoterScore'] != -1]\n",
    "#Remove certain patterns + HTML linebreak\n",
    "rmv_lst = ['<br/>', '=', '=-']\n",
    "for i in range(len(rmv_lst)):\n",
    "    df = df.replace(rmv_lst[i], '', regex = True)\n",
    "#Remove NULL/BLANK\n",
    "df = df[df['Comment_Translation'] != '']\n",
    "df = df[df['Comment_Translation'].apply(lambda x: len(x) < 512)]\n",
    "#display(df)"
   ]
  },
  {
   "cell_type": "code",
   "execution_count": null,
   "id": "c8f51515-213f-489c-b3de-1adf3b2f36d4",
   "metadata": {},
   "outputs": [],
   "source": [
    "#df = df.iloc[1:100]\n",
    "df = (\n",
    "    df\n",
    "    .assign(sentiment = lambda x: x['Comment_Translation'].apply(lambda s: classifier(s)))\n",
    "    .assign(\n",
    "         label = lambda x: x['sentiment'].apply(lambda s: (s[0]['label'])),\n",
    "         score = lambda x: x['sentiment'].apply(lambda s: (s[0]['score']))\n",
    "    )\n",
    ")"
   ]
  },
  {
   "cell_type": "code",
   "execution_count": 6,
   "id": "13405fc2-c1fd-4c15-8daa-7c68fb6239ad",
   "metadata": {},
   "outputs": [],
   "source": [
    "df.to_csv('SA_Results.csv', encoding = 'utf_8_sig', index = False)"
   ]
  }
 ],
 "metadata": {
  "kernelspec": {
   "display_name": "Python 3 (ipykernel)",
   "language": "python",
   "name": "python3"
  },
  "language_info": {
   "codemirror_mode": {
    "name": "ipython",
    "version": 3
   },
   "file_extension": ".py",
   "mimetype": "text/x-python",
   "name": "python",
   "nbconvert_exporter": "python",
   "pygments_lexer": "ipython3",
   "version": "3.11.8"
  }
 },
 "nbformat": 4,
 "nbformat_minor": 5
}
