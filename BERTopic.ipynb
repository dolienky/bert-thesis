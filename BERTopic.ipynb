{
 "cells": [
  {
   "cell_type": "code",
   "execution_count": 6,
   "id": "6ae969f8-36d7-440e-813f-adc057317348",
   "metadata": {},
   "outputs": [],
   "source": [
    "import pandas as pd\n",
    "import numpy as np\n",
    "#\n",
    "from bertopic import BERTopic\n",
    "from sentence_transformers import SentenceTransformer\n",
    "from sklearn.decomposition import PCA\n",
    "from hdbscan import HDBSCAN\n",
    "from sklearn.feature_extraction.text import CountVectorizer\n",
    "from bertopic.vectorizers import ClassTfidfTransformer\n",
    "#"
   ]
  },
  {
   "cell_type": "code",
   "execution_count": 7,
   "id": "1c5e1cab-17fc-48c1-be74-c229f7e97a52",
   "metadata": {},
   "outputs": [],
   "source": [
    "df_input = pd.read_csv('data_2023.csv', low_memory = False, on_bad_lines = \"skip\")"
   ]
  },
  {
   "cell_type": "code",
   "execution_count": 8,
   "id": "ded16cbe-2a22-4adb-958c-967eceae627e",
   "metadata": {},
   "outputs": [],
   "source": [
    "#Initial copy to avoid re-input\n",
    "df = df_input.copy()\n",
    "#Drop empty comment\n",
    "df = df.dropna(subset = \"Comment_Translation\")\n",
    "#Filter columns\n",
    "df = df[['CGID', 'Survey_Completed_Date', 'CustomerNumber', 'HeinekenRegion', 'Country', 'CustomerCluster',\n",
    "         'BusinessSegment', 'CustomerType', 'NetPromoterScore', 'Reasons_List', 'Comment', 'Comment_Translation']]\n",
    "#Extract months\n",
    "#df['Survey_Completed_Date'] = pd.to_datetime(df['Survey_Completed_Date'])\n",
    "#df['Month'] = pd.DatetimeIndex(df['Survey_Completed_Date']).month\n",
    "#Filter countries\n",
    "#df = df[df['Country'] != 'VN'] \n",
    "df = df[df['Country'] != 'MX'] #Different operating system\n",
    "df = df[df['Country'] != 'BI'] #Translation error\n",
    "df = df[df['Country'] != 'KH'] #Translation error\n",
    "\n",
    "#Data cleaning\n",
    "#Convert everything to string type\n",
    "df['Comment_Translation'] = df['Comment_Translation'].astype('str')\n",
    "#Exclude numeric\n",
    "df = df[~df['Comment_Translation'].str.isdigit()]\n",
    "df = df[~df['Comment_Translation'].str.isnumeric()]\n",
    "df = df[df['Comment_Translation'] != '100%']\n",
    "#Exclue certain patterns that confuse the model (e.g. Nil vs NB (shorts for Nigerian breweries))\n",
    "df = df[df['Comment_Translation'] != 'Nil']\n",
    "df = df[df['Comment_Translation'] != 'Nill']\n",
    "#Exclude CSAT\n",
    "df = df[df['NetPromoterScore'] != -1]\n",
    "#Remove certain patterns + HTML linebreak\n",
    "rmv_lst = ['<br/>', '=', '=-']\n",
    "for i in range(len(rmv_lst)):\n",
    "    df = df.replace(rmv_lst[i], '', regex = True)\n",
    "#Remove NULL/BLANK\n",
    "df = df[df['Comment_Translation'] != '']\n",
    "#display(df)"
   ]
  },
  {
   "cell_type": "markdown",
   "id": "e23ca464-3438-4982-b5db-a41c3fd01609",
   "metadata": {},
   "source": [
    "# Model"
   ]
  },
  {
   "cell_type": "code",
   "execution_count": 16,
   "id": "7874e492-dde1-4465-9478-1aec7fb810ab",
   "metadata": {},
   "outputs": [],
   "source": [
    "# Step 1 - Extract embeddings\n",
    "embedding_model = SentenceTransformer(\"all-MiniLM-L6-v2\")\n",
    "#embedding_model = SentenceTransformer(\"paraphrase-multilingual-MiniLM-L12-v2\")\n",
    "\n",
    "# Step 2 - Reduce dimensionality\n",
    "umap_model = PCA(n_components=2)\n",
    "\n",
    "# Step 3 - Cluster reduced embeddings\n",
    "hdbscan_model = HDBSCAN(min_cluster_size=20, metric='euclidean', cluster_selection_method='eom', prediction_data=True)\n",
    "\n",
    "# Step 4 - Tokenize topics\n",
    "vectorizer_model = CountVectorizer(ngram_range=(1, 3), stop_words=\"english\")\n",
    "\n",
    "# Step 5 - Create topic representation\n",
    "ctfidf_model = ClassTfidfTransformer()\n",
    "\n",
    "# All steps together\n",
    "topic_model = BERTopic(nr_topics=50,\n",
    "  embedding_model=embedding_model,          # Step 1 - Extract embeddings\n",
    "  umap_model=umap_model,                    # Step 2 - Reduce dimensionality\n",
    "  hdbscan_model=hdbscan_model,              # Step 3 - Cluster reduced embeddings\n",
    "  vectorizer_model=vectorizer_model,        # Step 4 - Tokenize topics\n",
    "  ctfidf_model=ctfidf_model                 # Step 5 - Topic representation\n",
    ")\n",
    "docs = df.Comment_Translation\n",
    "topics, probs = topic_model.fit_transform(docs)"
   ]
  },
  {
   "cell_type": "code",
   "execution_count": null,
   "id": "d73d8e30-ee03-4daf-a208-996cb81ce03a",
   "metadata": {},
   "outputs": [],
   "source": [
    "topic_model.save(\"BERTopic_Model\", serialization=\"pickle\")"
   ]
  },
  {
   "cell_type": "code",
   "execution_count": 9,
   "id": "40a53202-9617-43ba-a95e-fc2b2feee571",
   "metadata": {},
   "outputs": [],
   "source": [
    "output = df.copy()\n",
    "output['Topic'] = topic_model.topics_"
   ]
  },
  {
   "cell_type": "markdown",
   "id": "62887ee3-b202-4070-888c-e593f3d381b6",
   "metadata": {},
   "source": [
    "### Optimization"
   ]
  },
  {
   "cell_type": "code",
   "execution_count": 54,
   "id": "54da87df-0017-4033-81c7-0961e9fbbe8a",
   "metadata": {},
   "outputs": [],
   "source": [
    "temp = output.copy()\n",
    "cmt = temp['Comment_Translation'].tolist()\n",
    "updated_topic = []\n",
    "for i in range(len(cmt)):\n",
    "    #print(cmt[i])\n",
    "    #print(topic_model.transform(cmt[i])[0][0])\n",
    "    updated_topic.append(topic_model.transform(cmt[i])[0][0])"
   ]
  },
  {
   "cell_type": "code",
   "execution_count": 56,
   "id": "f3b049fd-79a4-4938-83d9-4bc578666863",
   "metadata": {},
   "outputs": [],
   "source": [
    "output.to_csv('TM_Results.csv', encoding = 'utf_8_sig', index = False)"
   ]
  }
 ],
 "metadata": {
  "kernelspec": {
   "display_name": "Python 3 (ipykernel)",
   "language": "python",
   "name": "python3"
  },
  "language_info": {
   "codemirror_mode": {
    "name": "ipython",
    "version": 3
   },
   "file_extension": ".py",
   "mimetype": "text/x-python",
   "name": "python",
   "nbconvert_exporter": "python",
   "pygments_lexer": "ipython3",
   "version": "3.11.8"
  }
 },
 "nbformat": 4,
 "nbformat_minor": 5
}
